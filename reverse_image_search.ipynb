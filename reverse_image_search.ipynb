{
 "cells": [
  {
   "cell_type": "code",
   "execution_count": null,
   "metadata": {},
   "outputs": [],
   "source": [
    "import tensorflow.keras as keras"
   ]
  },
  {
   "cell_type": "code",
   "execution_count": null,
   "metadata": {},
   "outputs": [],
   "source": [
    "import os"
   ]
  },
  {
   "cell_type": "code",
   "execution_count": null,
   "metadata": {},
   "outputs": [],
   "source": [
    "from tensorflow.keras.preprocessing import image\n",
    "from tensorflow.keras.applications.imagenet_utils import decode_predictions, preprocess_input\n",
    "from tensorflow.keras.models import Model"
   ]
  },
  {
   "cell_type": "code",
   "execution_count": null,
   "metadata": {},
   "outputs": [],
   "source": [
    "model = keras.applications.VGG16(weights='imagenet', include_top=True)"
   ]
  },
  {
   "cell_type": "code",
   "execution_count": null,
   "metadata": {},
   "outputs": [],
   "source": [
    "\n",
    "model.summary()"
   ]
  },
  {
   "cell_type": "code",
   "execution_count": null,
   "metadata": {},
   "outputs": [],
   "source": [
    "import numpy as np\n",
    "import matplotlib.pyplot as plt\n",
    "\n",
    "def load_image(path):\n",
    "    img = image.load_img(path, target_size=model.input_shape[1:3])\n",
    "    x = image.img_to_array(img)\n",
    "    x = np.expand_dims(x, axis=0)\n",
    "    x = preprocess_input(x)\n",
    "    return img, x"
   ]
  },
  {
   "cell_type": "code",
   "execution_count": null,
   "metadata": {},
   "outputs": [],
   "source": [
    "img, x = load_image(\"Portraits/7.jpg\")\n",
    "print(\"shape of x: \", x.shape)\n",
    "print(\"data type: \", x.dtype)\n",
    "plt.imshow(img)"
   ]
  },
  {
   "cell_type": "code",
   "execution_count": null,
   "metadata": {},
   "outputs": [],
   "source": [
    "# forward the image through the network\n",
    "predictions = model.predict(x)\n",
    "\n",
    "# print out the \n",
    "for _, pred, prob in decode_predictions(predictions)[0]:\n",
    "    print(\"predicted %s with probability %0.3f\" % (pred, prob))"
   ]
  },
  {
   "cell_type": "code",
   "execution_count": null,
   "metadata": {},
   "outputs": [],
   "source": [
    "feat_extractor = Model(inputs=model.input, outputs=model.get_layer(\"fc2\").output)\n",
    "feat_extractor.summary()"
   ]
  },
  {
   "cell_type": "code",
   "execution_count": null,
   "metadata": {},
   "outputs": [],
   "source": [
    "img, x = load_image(\"Portraits/7.jpg\")\n",
    "feat = feat_extractor.predict(x)\n",
    "\n",
    "plt.figure(figsize=(16,4))\n",
    "plt.plot(feat[0])"
   ]
  },
  {
   "cell_type": "code",
   "execution_count": null,
   "metadata": {},
   "outputs": [],
   "source": [
    "images_path = 'Portraits'\n",
    "image_extensions = ['.jpg', '.png', '.jpeg']   # case-insensitive (upper/lower doesn't matter)\n",
    "max_num_images = 10000\n",
    "\n",
    "images = [os.path.join(dp, f) for dp, dn, filenames in os.walk(images_path) for f in filenames if os.path.splitext(f)[1].lower() in image_extensions]\n",
    "if max_num_images < len(images):\n",
    "    images = [images[i] for i in sorted(random.sample(xrange(len(images)), max_num_images))]\n",
    "\n",
    "print(\"keeping %d images to analyze\" % len(images))"
   ]
  },
  {
   "cell_type": "code",
   "execution_count": null,
   "metadata": {},
   "outputs": [],
   "source": [
    "import time\n",
    "tic = time.clock()\n",
    "\n",
    "\n",
    "features = []\n",
    "for i, image_path in enumerate(images):\n",
    "    if i % 500 == 0:\n",
    "        toc = time.process_time()\n",
    "        elap = toc-tic;\n",
    "        print(\"analyzing image %d / %d. Time: %4.4f seconds.\" % (i, len(images),elap))\n",
    "        tic = time.process_time()\n",
    "    img, x = load_image(image_path);\n",
    "    feat = feat_extractor.predict(x)[0]\n",
    "    features.append(feat)\n",
    "\n",
    "print('finished extracting features for %d images' % len(images))"
   ]
  },
  {
   "cell_type": "code",
   "execution_count": null,
   "metadata": {},
   "outputs": [],
   "source": [
    "from sklearn.decomposition import PCA\n",
    "\n",
    "features = np.array(features)\n",
    "pca = PCA(n_components=300)\n",
    "pca.fit(features)"
   ]
  },
  {
   "cell_type": "code",
   "execution_count": null,
   "metadata": {},
   "outputs": [],
   "source": [
    "pca_features = pca.transform(features)"
   ]
  },
  {
   "cell_type": "code",
   "execution_count": null,
   "metadata": {},
   "outputs": [],
   "source": [
    "\n",
    "import random\n",
    "\n",
    "# grab a random query image\n",
    "query_image_idx = int(len(images) * random.random())\n",
    "\n",
    "# let's display the image\n",
    "img = image.load_img(images[query_image_idx])\n",
    "plt.imshow(img)"
   ]
  },
  {
   "cell_type": "code",
   "execution_count": null,
   "metadata": {},
   "outputs": [],
   "source": [
    "\n",
    "from scipy.spatial import distance\n",
    "\n",
    "similar_idx = [ distance.cosine(pca_features[query_image_idx], feat) for feat in pca_features ]"
   ]
  },
  {
   "cell_type": "code",
   "execution_count": null,
   "metadata": {},
   "outputs": [],
   "source": [
    "idx_closest = sorted(range(len(similar_idx)), key=lambda k: similar_idx[k])[1:6]"
   ]
  },
  {
   "cell_type": "code",
   "execution_count": null,
   "metadata": {},
   "outputs": [],
   "source": [
    "# load all the similarity results as thumbnails of height 100\n",
    "thumbs = []\n",
    "for idx in idx_closest:\n",
    "    img = image.load_img(images[idx])\n",
    "    img = img.resize((int(img.width * 100 / img.height), 100))\n",
    "    thumbs.append(img)\n",
    "\n",
    "# concatenate the images into a single image\n",
    "concat_image = np.concatenate([np.asarray(t) for t in thumbs], axis=1)\n",
    "\n",
    "# show the image\n",
    "plt.figure(figsize = (16,12))\n",
    "plt.imshow(concat_image)"
   ]
  },
  {
   "cell_type": "code",
   "execution_count": null,
   "metadata": {},
   "outputs": [],
   "source": [
    "\n",
    "def get_closest_images(query_image_idx, num_results=5):\n",
    "    distances = [ distance.cosine(pca_features[query_image_idx], feat) for feat in pca_features ]\n",
    "    idx_closest = sorted(range(len(distances)), key=lambda k: distances[k])[1:num_results+1]\n",
    "    return idx_closest\n",
    "\n",
    "def get_concatenated_images(indexes, thumb_height):\n",
    "    thumbs = []\n",
    "    for idx in indexes:\n",
    "        img = image.load_img(images[idx])\n",
    "        img = img.resize((int(img.width * thumb_height / img.height), thumb_height))\n",
    "        thumbs.append(img)\n",
    "    concat_image = np.concatenate([np.asarray(t) for t in thumbs], axis=1)\n",
    "    return concat_image"
   ]
  },
  {
   "cell_type": "code",
   "execution_count": null,
   "metadata": {},
   "outputs": [],
   "source": [
    "\n",
    "# do a query on a random image\n",
    "query_image_idx = int(len(images) * random.random())\n",
    "idx_closest = get_closest_images(query_image_idx)\n",
    "query_image = get_concatenated_images([query_image_idx], 300)\n",
    "results_image = get_concatenated_images(idx_closest, 200)\n",
    "\n",
    "# display the query image\n",
    "plt.figure(figsize = (5,5))\n",
    "plt.imshow(query_image)\n",
    "plt.title(\"query image (%d)\" % query_image_idx)\n",
    "\n",
    "# display the resulting images\n",
    "plt.figure(figsize = (16,12))\n",
    "plt.imshow(results_image)\n",
    "plt.title(\"result images\")"
   ]
  },
  {
   "cell_type": "code",
   "execution_count": null,
   "metadata": {},
   "outputs": [],
   "source": [
    "\n",
    "# do a query on a random image\n",
    "# query_image_idx = i\n",
    "#     for i = 0; i > 0; i++ {\n",
    "        \n",
    "#     }\n",
    "\n",
    "for x in range(0, 100):\n",
    "    query_image_idx = x\n",
    "    idx_closest = get_closest_images(query_image_idx)\n",
    "    query_image = get_concatenated_images([query_image_idx], 300)\n",
    "    results_image = get_concatenated_images(idx_closest, 200)\n",
    "\n",
    "    # display the query image\n",
    "    plt.figure(figsize = (5,5))\n",
    "    plt.imshow(query_image)\n",
    "    plt.title(\"query image (%d)\" % query_image_idx)\n",
    "\n",
    "    # display the resulting images\n",
    "    plt.figure(figsize = (16,12))\n",
    "    plt.imshow(results_image)\n",
    "    plt.title(\"result images\")"
   ]
  },
  {
   "cell_type": "code",
   "execution_count": null,
   "metadata": {},
   "outputs": [],
   "source": [
    "\n",
    "# do a query on a random image\n",
    "# query_image_idx = i\n",
    "#     for i = 0; i > 0; i++ {\n",
    "        \n",
    "#     }\n",
    "\n",
    "for x in range(101, 200):\n",
    "    query_image_idx = x\n",
    "    idx_closest = get_closest_images(query_image_idx)\n",
    "    query_image = get_concatenated_images([query_image_idx], 300)\n",
    "    results_image = get_concatenated_images(idx_closest, 200)\n",
    "\n",
    "    # display the query image\n",
    "    plt.figure(figsize = (5,5))\n",
    "    plt.imshow(query_image)\n",
    "    plt.title(\"query image (%d)\" % query_image_idx)\n",
    "\n",
    "    # display the resulting images\n",
    "    plt.figure(figsize = (16,12))\n",
    "    plt.imshow(results_image)\n",
    "    plt.title(\"result images\")"
   ]
  },
  {
   "cell_type": "code",
   "execution_count": null,
   "metadata": {},
   "outputs": [],
   "source": [
    "\n",
    "# do a query on a random image\n",
    "# query_image_idx = i\n",
    "#     for i = 0; i > 0; i++ {\n",
    "        \n",
    "#     }\n",
    "\n",
    "for x in range(201, 300):\n",
    "    query_image_idx = x\n",
    "    idx_closest = get_closest_images(query_image_idx)\n",
    "    query_image = get_concatenated_images([query_image_idx], 300)\n",
    "    results_image = get_concatenated_images(idx_closest, 200)\n",
    "\n",
    "    # display the query image\n",
    "    plt.figure(figsize = (5,5))\n",
    "    plt.imshow(query_image)\n",
    "    plt.title(\"query image (%d)\" % query_image_idx)\n",
    "\n",
    "    # display the resulting images\n",
    "    plt.figure(figsize = (16,12))\n",
    "    plt.imshow(results_image)\n",
    "    plt.title(\"result images\")"
   ]
  },
  {
   "cell_type": "code",
   "execution_count": null,
   "metadata": {},
   "outputs": [],
   "source": [
    "\n",
    "# do a query on a random image\n",
    "# query_image_idx = i\n",
    "#     for i = 0; i > 0; i++ {\n",
    "        \n",
    "#     }\n",
    "\n",
    "for x in range(301, 400):\n",
    "    query_image_idx = x\n",
    "    idx_closest = get_closest_images(query_image_idx)\n",
    "    query_image = get_concatenated_images([query_image_idx], 300)\n",
    "    results_image = get_concatenated_images(idx_closest, 200)\n",
    "\n",
    "    # display the query image\n",
    "    plt.figure(figsize = (5,5))\n",
    "    plt.imshow(query_image)\n",
    "    plt.title(\"query image (%d)\" % query_image_idx)\n",
    "\n",
    "    # display the resulting images\n",
    "    plt.figure(figsize = (16,12))\n",
    "    plt.imshow(results_image)\n",
    "    plt.title(\"result images\")"
   ]
  },
  {
   "cell_type": "code",
   "execution_count": null,
   "metadata": {},
   "outputs": [],
   "source": [
    "\n",
    "# do a query on a random image\n",
    "# query_image_idx = i\n",
    "#     for i = 0; i > 0; i++ {\n",
    "        \n",
    "#     }\n",
    "\n",
    "for x in range(401, 500):\n",
    "    query_image_idx = x\n",
    "    idx_closest = get_closest_images(query_image_idx)\n",
    "    query_image = get_concatenated_images([query_image_idx], 300)\n",
    "    results_image = get_concatenated_images(idx_closest, 200)\n",
    "\n",
    "    # display the query image\n",
    "    plt.figure(figsize = (5,5))\n",
    "    plt.imshow(query_image)\n",
    "    plt.title(\"query image (%d)\" % query_image_idx)\n",
    "\n",
    "    # display the resulting images\n",
    "    plt.figure(figsize = (16,12))\n",
    "    plt.imshow(results_image)\n",
    "    plt.title(\"result images\")"
   ]
  },
  {
   "cell_type": "code",
   "execution_count": null,
   "metadata": {},
   "outputs": [],
   "source": [
    "\n",
    "# do a query on a random image\n",
    "# query_image_idx = i\n",
    "#     for i = 0; i > 0; i++ {\n",
    "        \n",
    "#     }\n",
    "\n",
    "for x in range(501, 577):\n",
    "    query_image_idx = x\n",
    "    idx_closest = get_closest_images(query_image_idx)\n",
    "    query_image = get_concatenated_images([query_image_idx], 300)\n",
    "    results_image = get_concatenated_images(idx_closest, 200)\n",
    "\n",
    "    # display the query image\n",
    "    plt.figure(figsize = (5,5))\n",
    "    plt.imshow(query_image)\n",
    "    plt.title(\"query image (%d)\" % query_image_idx)\n",
    "\n",
    "    # display the resulting images\n",
    "    plt.figure(figsize = (16,12))\n",
    "    plt.imshow(results_image)\n",
    "    plt.title(\"result images\")"
   ]
  }
 ],
 "metadata": {
  "kernelspec": {
   "display_name": "Python 3",
   "language": "python",
   "name": "python3"
  },
  "language_info": {
   "codemirror_mode": {
    "name": "ipython",
    "version": 3
   },
   "file_extension": ".py",
   "mimetype": "text/x-python",
   "name": "python",
   "nbconvert_exporter": "python",
   "pygments_lexer": "ipython3",
   "version": "3.7.3"
  }
 },
 "nbformat": 4,
 "nbformat_minor": 2
}
